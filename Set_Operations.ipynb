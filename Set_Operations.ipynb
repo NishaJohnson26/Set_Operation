{
 "cells": [
  {
   "cell_type": "code",
   "execution_count": 13,
   "id": "5baae156",
   "metadata": {},
   "outputs": [
    {
     "name": "stdout",
     "output_type": "stream",
     "text": [
      "union of E and F is {0, 1, 2, 3, 4, 5, 6, 8}\n"
     ]
    }
   ],
   "source": [
    "E = {0, 2, 4, 6, 8}\n",
    "F = {1,2, 4, 3, 5}\n",
    "#Set union\n",
    "print(\"union of E and F is\",E | F)"
   ]
  },
  {
   "cell_type": "code",
   "execution_count": 5,
   "id": "473ca7f7",
   "metadata": {},
   "outputs": [
    {
     "name": "stdout",
     "output_type": "stream",
     "text": [
      "intersection of E and F is {2, 4}\n"
     ]
    }
   ],
   "source": [
    "#Set intersection\n",
    "print(\"intersection of E and F is\",E & F)"
   ]
  },
  {
   "cell_type": "code",
   "execution_count": 8,
   "id": "45bd484a",
   "metadata": {},
   "outputs": [
    {
     "name": "stdout",
     "output_type": "stream",
     "text": [
      "difference of E and F is {0, 8, 6}\n"
     ]
    }
   ],
   "source": [
    "#Set difference\n",
    "print(\"difference of E and F is\",E - F)"
   ]
  },
  {
   "cell_type": "code",
   "execution_count": 14,
   "id": "a6b08749",
   "metadata": {},
   "outputs": [
    {
     "name": "stdout",
     "output_type": "stream",
     "text": [
      " Symmetric difference of E and F is {0, 1, 3, 5, 6, 8}\n"
     ]
    }
   ],
   "source": [
    "# set symmetric difference\n",
    "print(\" Symmetric difference of E and F is\",E ^ F)\n"
   ]
  },
  {
   "cell_type": "code",
   "execution_count": null,
   "id": "0feac080",
   "metadata": {},
   "outputs": [],
   "source": []
  }
 ],
 "metadata": {
  "kernelspec": {
   "display_name": "Python 3 (ipykernel)",
   "language": "python",
   "name": "python3"
  },
  "language_info": {
   "codemirror_mode": {
    "name": "ipython",
    "version": 3
   },
   "file_extension": ".py",
   "mimetype": "text/x-python",
   "name": "python",
   "nbconvert_exporter": "python",
   "pygments_lexer": "ipython3",
   "version": "3.9.7"
  }
 },
 "nbformat": 4,
 "nbformat_minor": 5
}
